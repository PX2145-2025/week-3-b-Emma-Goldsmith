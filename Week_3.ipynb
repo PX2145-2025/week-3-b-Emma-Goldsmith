{
  "nbformat": 4,
  "nbformat_minor": 0,
  "metadata": {
    "colab": {
      "provenance": [],
      "authorship_tag": "ABX9TyMHEHbndVPru0BRNEdqw05S",
      "include_colab_link": true
    },
    "kernelspec": {
      "name": "python3",
      "display_name": "Python 3"
    },
    "language_info": {
      "name": "python"
    }
  },
  "cells": [
    {
      "cell_type": "markdown",
      "metadata": {
        "id": "view-in-github",
        "colab_type": "text"
      },
      "source": [
        "<a href=\"https://colab.research.google.com/github/PX2145-2025/week-3-b-Emma-Goldsmith/blob/main/Week_3.ipynb\" target=\"_parent\"><img src=\"https://colab.research.google.com/assets/colab-badge.svg\" alt=\"Open In Colab\"/></a>"
      ]
    },
    {
      "cell_type": "code",
      "execution_count": 15,
      "metadata": {
        "id": "TxoPntQxtcnb"
      },
      "outputs": [],
      "source": [
        "import numpy as np\n",
        "import matplotlib.pyplot as plt"
      ]
    },
    {
      "cell_type": "code",
      "source": [
        "! pip install -q uncertainties"
      ],
      "metadata": {
        "id": "3ds5xPHmtkUD"
      },
      "execution_count": 16,
      "outputs": []
    },
    {
      "cell_type": "code",
      "source": [
        "import uncertainties as uc\n",
        "import uncertainties.umath as um # for maths functions"
      ],
      "metadata": {
        "id": "g6Qo1puRt4Dg"
      },
      "execution_count": 17,
      "outputs": []
    },
    {
      "cell_type": "markdown",
      "source": [
        "Example 1: If the length of a rectangle is 1.24 +- 0.02m and its breadth is 0.61 +- 0.01m, what is its area and the error in the area?"
      ],
      "metadata": {
        "id": "m9CT-z4kuW2H"
      }
    },
    {
      "cell_type": "code",
      "source": [
        "L = uc.ufloat(1.24, 0.02)\n",
        "W = uc.ufloat(0.61, 0.01)\n",
        "print ('Area is:', L*W, 'm^2') # Do remember to add the units when printing!"
      ],
      "metadata": {
        "colab": {
          "base_uri": "https://localhost:8080/"
        },
        "id": "MiKFqqa7uXdy",
        "outputId": "4d805655-130e-4f18-b989-cf41012271b2"
      },
      "execution_count": 7,
      "outputs": [
        {
          "output_type": "stream",
          "name": "stdout",
          "text": [
            "Area is: 0.756+/-0.017 m^2\n"
          ]
        }
      ]
    },
    {
      "cell_type": "code",
      "source": [
        "# error propogation formula\n",
        "np.abs(1.24*0.61)*np.sqrt((0.02/1.24)**2+(0.01/0.61)**2)"
      ],
      "metadata": {
        "colab": {
          "base_uri": "https://localhost:8080/"
        },
        "id": "lPCwReE_ua2F",
        "outputId": "df2dfc9d-8ea8-4021-e730-cf685b541ccf"
      },
      "execution_count": 8,
      "outputs": [
        {
          "output_type": "execute_result",
          "data": {
            "text/plain": [
              "np.float64(0.01739540169125163)"
            ]
          },
          "metadata": {},
          "execution_count": 8
        }
      ]
    },
    {
      "cell_type": "markdown",
      "source": [
        "Exercise 0 - With some approximations, we have measured the mass of the following black-holes:\n",
        "\"35.6+/-3.9\",\"30.6+/-3.7\",\"63.1+/-3.2\",\"23.2+/-9.8\",\"13.6+/-4.5\",\"35.7+/-6.8\",\"13.7+/-6.0\",\"7.7+/-2.4\",\"20.5+/-4.0\"\n",
        "\n",
        "Compute for each (with error-bars) their lifetime due to Hawking radiation:\n",
        "\n",
        "$t = (\\frac{M}{Mo})^3 * 2.097 * 10^(67)yr$"
      ],
      "metadata": {
        "id": "AOQ8nQq5un0Z"
      }
    },
    {
      "cell_type": "code",
      "source": [
        "def lifetime(mass): #this will return the lifetime in years of a black hole of mass m in solar masses\n",
        "  time = (mass**3) * 2.097 * 1e67\n",
        "  return time"
      ],
      "metadata": {
        "id": "uKOizcf5vH0l"
      },
      "execution_count": 34,
      "outputs": []
    },
    {
      "cell_type": "code",
      "source": [
        "strings=(\"35.6+/-3.9\",\"30.6+/-3.7\",\"63.1+/-3.2\",\"23.2+/-9.8\",\"13.6+/-4.5\",\"35.7+/-6.8\",\"13.7+/-6.0\",\"7.7+/-2.4\",\"20.5+/-4.0\")"
      ],
      "metadata": {
        "id": "awJshB4uwCUe"
      },
      "execution_count": 46,
      "outputs": []
    },
    {
      "cell_type": "code",
      "source": [
        "masses=(uc.ufloat_fromstr(s) for s in strings)"
      ],
      "metadata": {
        "id": "wmZB7nzYwHfn"
      },
      "execution_count": 50,
      "outputs": []
    },
    {
      "cell_type": "code",
      "source": [
        "masses[3] #is the 4th as the first is [0]"
      ],
      "metadata": {
        "colab": {
          "base_uri": "https://localhost:8080/"
        },
        "id": "JNDcE9W5ypzl",
        "outputId": "fdd51b5a-7aa0-43b7-a0f0-a50315dbc557"
      },
      "execution_count": 52,
      "outputs": [
        {
          "output_type": "execute_result",
          "data": {
            "text/plain": [
              "23.2+/-9.8"
            ]
          },
          "metadata": {},
          "execution_count": 52
        }
      ]
    },
    {
      "cell_type": "code",
      "source": [
        "['{:10.1e}'.format(lifetime(bh_mass)) for bh_mass in masses]\n",
        "# '{:10.1e}'.format() means you print 10 values and 1 decimal places in exponential foramt"
      ],
      "metadata": {
        "colab": {
          "base_uri": "https://localhost:8080/"
        },
        "id": "dR424IJ7yqvj",
        "outputId": "b0c5110e-70e8-44c7-e4e5-bd5b987f67e8"
      },
      "execution_count": 61,
      "outputs": [
        {
          "output_type": "execute_result",
          "data": {
            "text/plain": [
              "['   9.5e+71+/-   3.1e+71',\n",
              " '   6.0e+71+/-   2.2e+71',\n",
              " '   5.3e+72+/-   0.8e+72',\n",
              " '   2.6e+71+/-   3.3e+71',\n",
              " '   5.3e+70+/-   5.2e+70',\n",
              " '   9.5e+71+/-   5.5e+71',\n",
              " '   5.4e+70+/-   7.1e+70',\n",
              " '   9.6e+69+/-   9.0e+69',\n",
              " '   1.8e+71+/-   1.1e+71']"
            ]
          },
          "metadata": {},
          "execution_count": 61
        }
      ]
    },
    {
      "cell_type": "markdown",
      "source": [
        "Exercise 1 - An object is measured to x = 5.1 +/-0.4m travel a distance\n",
        " during a time of t = 0.4+/- 0.1s. What is the average velocity and the error in the average velocity?"
      ],
      "metadata": {
        "id": "K4DfqcXl0QGS"
      }
    },
    {
      "cell_type": "code",
      "source": [
        "X = uc.ufloat(5.1, 0.4)\n",
        "T = uc.ufloat(0.4,0.1)"
      ],
      "metadata": {
        "id": "zZZ8wiLr0Zas"
      },
      "execution_count": 18,
      "outputs": []
    },
    {
      "cell_type": "code",
      "source": [
        "velocity = X/T\n",
        "print(\"The average velocity and the error of the average velocity is:\", velocity)"
      ],
      "metadata": {
        "colab": {
          "base_uri": "https://localhost:8080/"
        },
        "id": "uqWOpUF00lcY",
        "outputId": "ec75134c-b587-4b7a-98c8-e0145e2a9e5b"
      },
      "execution_count": 19,
      "outputs": [
        {
          "output_type": "stream",
          "name": "stdout",
          "text": [
            "The average velocity and the error of the average velocity is: 12.7+/-3.3\n"
          ]
        }
      ]
    },
    {
      "cell_type": "markdown",
      "source": [
        "Exercise 2 - An enterprising cow attempts to jump over the moon by jumping vertically into the air with initial speed v = 4.0 +/- 0.2 m/s. After a time t = 0.60 +/- 0.06 s, the height of the cow is\n",
        "h = vt - 0.5*gt^2 =0.636m. What is the uncertainty in\n",
        "h? Take g as exactly 9.81 ms^-2\n",
        "\n"
      ],
      "metadata": {
        "id": "pq-SPAzjlxy_"
      }
    },
    {
      "cell_type": "code",
      "source": [
        "v_0 = uc.ufloat(4, 0.2) #ms^1\n",
        "t = uc.ufloat(0.6, 0.06) #s\n",
        "g = 9.81 #ms^-2"
      ],
      "metadata": {
        "id": "hTWcC6WWmiXx"
      },
      "execution_count": 24,
      "outputs": []
    },
    {
      "cell_type": "code",
      "source": [
        "h = (v_0*t) - (0.5*g*t**2)\n",
        "print(h, \"m\")"
      ],
      "metadata": {
        "colab": {
          "base_uri": "https://localhost:8080/"
        },
        "id": "VXkal3vvmtqq",
        "outputId": "eaf7dc5c-f164-447d-a5c6-cafb5a025dc4"
      },
      "execution_count": 45,
      "outputs": [
        {
          "output_type": "stream",
          "name": "stdout",
          "text": [
            "0.63+/-0.16 m\n"
          ]
        }
      ]
    },
    {
      "cell_type": "code",
      "source": [
        "print(\"The uncertainty in h is +/-\", (\"%.3f\" % h.std_dev), \"m\")"
      ],
      "metadata": {
        "colab": {
          "base_uri": "https://localhost:8080/"
        },
        "id": "dLLw1DEFnEws",
        "outputId": "b10054b2-c058-4c6d-997e-df70742ddb0e"
      },
      "execution_count": 47,
      "outputs": [
        {
          "output_type": "stream",
          "name": "stdout",
          "text": [
            "The uncertainty in h is +/- 0.165 m\n"
          ]
        }
      ]
    },
    {
      "cell_type": "markdown",
      "source": [
        "Exercise 3 - In an optics experiment the object distance u is measured to be 20cm and the image distance v is 10cm, both to an accuracy of 0.5cm. Find the focal length f of the lens using the formula:\n",
        "\n",
        "$\\frac{1}{u} + \\frac{1}{v} = \\frac{1}{f}$"
      ],
      "metadata": {
        "id": "XDWTd8mrnYdm"
      }
    },
    {
      "cell_type": "code",
      "source": [
        "u = uc.ufloat(0.2,0.05) #m\n",
        "v = uc.ufloat(0,1,0.05) #m"
      ],
      "metadata": {
        "id": "cq3xsLAOnznX"
      },
      "execution_count": 36,
      "outputs": []
    },
    {
      "cell_type": "code",
      "source": [
        "f = 1/((1/u) + (1/v))\n",
        "print(\"The focal length of the lens is\", (\"%.3f\" %f.nominal_value), \"m\", \"With an uncertainty of\", (\"%.3f\"%f.std_dev), \"m\")"
      ],
      "metadata": {
        "colab": {
          "base_uri": "https://localhost:8080/"
        },
        "id": "y2sTSAnOoN-e",
        "outputId": "3de30ae5-f379-48b1-de75-90b8c7343b4c"
      },
      "execution_count": 44,
      "outputs": [
        {
          "output_type": "stream",
          "name": "stdout",
          "text": [
            "The focal length of the lens is 0.067 m With an uncertainty of 0.023 m\n"
          ]
        }
      ]
    },
    {
      "cell_type": "markdown",
      "source": [
        "Exercise 4 - Two students each measure the refractive index of water. Jack measures a value of 1.33 +/- 0.03 while Jill measures 1.28 +/- 0.02. Are these values in agreement? You do have to think a bit about this one..."
      ],
      "metadata": {
        "id": "tdyzsD01pPrH"
      }
    },
    {
      "cell_type": "code",
      "source": [
        "jack = uc.ufloat(1.33, 0.03)\n",
        "jill = uc.ufloat(1.28,0.02)"
      ],
      "metadata": {
        "id": "Io90_HvVpb-Q"
      },
      "execution_count": 49,
      "outputs": []
    },
    {
      "cell_type": "code",
      "source": [
        "jack_min = jack.nominal_value - jack.std_dev\n",
        "jack_max = jack.nominal_value + jack.std_dev\n",
        "jill_min = jill.nominal_value - jill.std_dev\n",
        "jill_max = jill.nominal_value + jill.std_dev\n",
        "print(\"The maximum value of jacks refractive index is\", jack_max, \"and the minimmum value is\", jack_min,\". The maximum value of Jills refractive index is\", jill_max, \"and the minimum value is\", jill_min)\n",
        "print(\"The minimum value of Jacks and the maximum value of Jills refractive index are both\", jack_min)\n",
        "print(\"Therefore these values are in agreement\")"
      ],
      "metadata": {
        "colab": {
          "base_uri": "https://localhost:8080/"
        },
        "id": "yvGiI80dpjS-",
        "outputId": "765a3cf1-0092-4b9a-dd55-4e0eb479ceaa"
      },
      "execution_count": 58,
      "outputs": [
        {
          "output_type": "stream",
          "name": "stdout",
          "text": [
            "The maximum value of jacks refractive index is 1.36 and the minimmum value is 1.3 . The maximum value of Jills refractive index is 1.3 and the minimum value is 1.26\n",
            "The minimum value of Jacks and the maximum value of Jills refractive index are both 1.3\n",
            "Therefore these values are in agreement\n"
          ]
        }
      ]
    },
    {
      "cell_type": "markdown",
      "source": [
        "Exercise 5 - The damped resonance frequency Wres of an oscillating system is related to the (un-damped) natural angular frequency W0 and the damping coefficient *alpha* by:\n",
        "\n",
        "$W_res = ((W_0)^2 - (2*alpha^2))^\\frac{1}{2} $\n",
        "\n",
        "Find F0 if the measured resonance frequency $F_res$ is 23.3 +/- 0.1 Hz and the measured damping coefficient is 19.5 +/- 0.5 s^-1."
      ],
      "metadata": {
        "id": "1vYRPEh_pqlK"
      }
    },
    {
      "cell_type": "code",
      "source": [
        "f_res = uc.ufloat(23.2, 0.1) #Hz\n",
        "alpha = uc.ufloat(19.5,0.5) #s^-1"
      ],
      "metadata": {
        "id": "EcjxLE6NqhUp"
      },
      "execution_count": 59,
      "outputs": []
    },
    {
      "cell_type": "code",
      "source": [
        "W_res = 2*np.pi*f_res"
      ],
      "metadata": {
        "id": "CW6bENRrq0tM"
      },
      "execution_count": 60,
      "outputs": []
    },
    {
      "cell_type": "code",
      "source": [
        "W_0 = ((W_res)**2 + (2*alpha**2))**0.5"
      ],
      "metadata": {
        "id": "kQevpC0FrEVU"
      },
      "execution_count": 61,
      "outputs": []
    },
    {
      "cell_type": "code",
      "source": [
        "f_0 = W_0/(2*np.pi)\n",
        "print(\"f0 is\",f_0, \"Hz\")"
      ],
      "metadata": {
        "colab": {
          "base_uri": "https://localhost:8080/"
        },
        "id": "X8LZ-cbLrgEi",
        "outputId": "7d4b8ca5-c073-416f-d8d6-8dbaa5229741"
      },
      "execution_count": 62,
      "outputs": [
        {
          "output_type": "stream",
          "name": "stdout",
          "text": [
            "f0 is 23.61+/-0.10 Hz\n"
          ]
        }
      ]
    },
    {
      "cell_type": "markdown",
      "source": [
        "Exercise 6 - Suppose you have the following equation from one of your lab experiments:\n",
        "\n",
        "calculate f and the error of f\n"
      ],
      "metadata": {
        "id": "mHw_VRjncnkw"
      }
    },
    {
      "cell_type": "code",
      "source": [
        "n1 = np.array([1,1,1])\n",
        "n2 = np.array([1,1,2])\n",
        "n3 = np.array([2,1,1])\n",
        "Lx = uc.ufloat(10.2,0.2)\n",
        "Ly = uc.ufloat(5.2,0.3)\n",
        "Lz = uc.ufloat(20,0.1)\n",
        "T = uc.ufloat(23,1)\n",
        "c = 331.3 + (T*0.606)"
      ],
      "metadata": {
        "id": "cz9wr4FYcxAB"
      },
      "execution_count": 64,
      "outputs": []
    },
    {
      "cell_type": "code",
      "source": [
        "f_1 = (c/2)*((((n1[0]**2)/(Lx**2)))+(((n1[1]**2)/(Ly**2)))+(((n1[2]**2)/(Lz**2))))**0.5\n",
        "print(\"The value of f and the error of f for (1,1,1) is\",f_1, \"Hz\")"
      ],
      "metadata": {
        "colab": {
          "base_uri": "https://localhost:8080/"
        },
        "id": "Nyb33Vasc2lC",
        "outputId": "bdc35f54-8c3b-4230-9e66-b67dc187408f"
      },
      "execution_count": 65,
      "outputs": [
        {
          "output_type": "stream",
          "name": "stdout",
          "text": [
            "The value of f and the error of f for (1,1,1) is 38.2+/-1.7 Hz\n"
          ]
        }
      ]
    },
    {
      "cell_type": "code",
      "source": [
        "f_2 = (c/2)*((((n2[0]**2)/(Lx**2)))+(((n2[1]**2)/(Ly**2)))+(((n2[2]**2)/(Lz**2))))**0.5\n",
        "print(\"The value of f and the error of f for (1,1,2) is\",f_2, \"Hz\")"
      ],
      "metadata": {
        "colab": {
          "base_uri": "https://localhost:8080/"
        },
        "id": "D6v9B4R2eRGu",
        "outputId": "540c3112-e635-4771-93c0-5999e61bcf66"
      },
      "execution_count": 66,
      "outputs": [
        {
          "output_type": "stream",
          "name": "stdout",
          "text": [
            "The value of f and the error of f for (1,1,2) is 41.1+/-1.6 Hz\n"
          ]
        }
      ]
    },
    {
      "cell_type": "code",
      "source": [
        "f_3 = (c/2)*((((n3[0]**2)/(Lx**2)))+(((n3[1]**2)/(Ly**2)))+(((n3[2]**2)/(Lz**2))))**0.5\n",
        "print(\"The value of f and the error of f for (2,1,1) is\",f_3, \"Hz\")"
      ],
      "metadata": {
        "colab": {
          "base_uri": "https://localhost:8080/"
        },
        "id": "X95DYkDvfY_9",
        "outputId": "11ed9f1c-c159-45db-aa3b-4f51f1da1ac0"
      },
      "execution_count": 67,
      "outputs": [
        {
          "output_type": "stream",
          "name": "stdout",
          "text": [
            "The value of f and the error of f for (2,1,1) is 48.2+/-1.4 Hz\n"
          ]
        }
      ]
    },
    {
      "cell_type": "markdown",
      "source": [
        "Exercise 7 - The reflection coefficient R for parallel plane-polarised light reflected from a surface is given by the equation:\n",
        "\n",
        "$R = \\frac{tan^2(theta_i - theta_t)}{tan^2(theta_i + theta_t)}$\n",
        "\n",
        "Calculate the error in R given measurements theta_i =(78 +/- 1) theta_t =(40 +/- 1) and\n",
        "\n"
      ],
      "metadata": {
        "id": "QL_txHyvfyqu"
      }
    },
    {
      "cell_type": "code",
      "source": [
        "theta_i = uc.ufloat(78,1) #degrees\n",
        "theta_t = uc.ufloat(40,1) # degrees\n",
        "\n",
        "#convert from degrees to radians\n",
        "rad_i = um.radians(theta_i)\n",
        "rad_t = um.radians(theta_t)\n",
        "\n",
        "#A = theta_i - theta_t (in radians)\n",
        "A = rad_i - rad_t\n",
        "#B = theta_i + theta_t (in radians)\n",
        "B = rad_i + rad_t\n",
        "\n",
        "R = ((um.tan(A)/um.tan(B))**2)\n",
        "\n",
        "print(f\"The error in the reflection coefficient is: {R.std_dev:.3f}\")"
      ],
      "metadata": {
        "colab": {
          "base_uri": "https://localhost:8080/"
        },
        "id": "hk7qJSQ1gfaC",
        "outputId": "7def9dcb-3dee-41f1-8081-762914951962"
      },
      "execution_count": 110,
      "outputs": [
        {
          "output_type": "stream",
          "name": "stdout",
          "text": [
            "The error in the reflection coefficient is: 0.027\n"
          ]
        }
      ]
    },
    {
      "cell_type": "markdown",
      "source": [
        "Exercise 8 - Calculate and print to the screen the fractional uncertainty, as a percentage to one significant figure, of the fluid flow discharge coefficient $C_d$ from the equation:\n",
        "\n",
        "$C_d = \\frac{m(1 -(\\frac{d}{D})^4)^(0.5)}{Kd^2F(density * change in P)^(0.5)}$"
      ],
      "metadata": {
        "id": "ZewARSG5g9lP"
      }
    },
    {
      "cell_type": "code",
      "source": [
        "m = uc.ufloat(0.13,0.01)   #kgs^1\n",
        "d = uc.ufloat(11e-3,1e-3)  #m\n",
        "D = uc.ufloat(71e-3,1e-3) #m\n",
        "density = uc.ufloat(1010, 10) #kgm^-3\n",
        "change_in_P = uc.ufloat(156,7) #Pa\n",
        "K = 1\n",
        "F = 1\n",
        "C_d = (m*(1-(d/D)**4)**0.5)/(K*(d**2)*F*(density*change_in_P)**0.5)\n",
        "frac_unc = C_d.std_dev / C_d.nominal_value\n",
        "percent_unc = frac_unc *100\n",
        "print(f\"The calculated doscharge coefficient is: {C_d:.2f}\")\n",
        "print(f\"To one significant figure, the percentage uncertainty is: {percent_unc:.0f}%\")"
      ],
      "metadata": {
        "colab": {
          "base_uri": "https://localhost:8080/"
        },
        "id": "fVstlJYbg0EJ",
        "outputId": "3cc30ad5-aaae-404d-a593-286bf8582f28"
      },
      "execution_count": 120,
      "outputs": [
        {
          "output_type": "stream",
          "name": "stdout",
          "text": [
            "The calculated doscharge coefficient is: 2.71+/-0.54\n",
            "To one significant figure, the percentage uncertainty is: 20%\n"
          ]
        }
      ]
    },
    {
      "cell_type": "code",
      "source": [],
      "metadata": {
        "id": "z-iyTH0xjFe0"
      },
      "execution_count": null,
      "outputs": []
    }
  ]
}